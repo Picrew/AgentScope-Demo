{
 "cells": [
  {
   "cell_type": "code",
   "execution_count": 2,
   "metadata": {},
   "outputs": [
    {
     "name": "stdout",
     "output_type": "stream",
     "text": [
      "\u001b[96mAssistant\u001b[0m: 是的，我是由阿里云开发的人工智能助手，我叫通义千问。有什么我可以帮助你的吗？\n",
      "\u001b[95mUser\u001b[0m: 你是什么agent\n",
      "\u001b[96mAssistant\u001b[0m: 我是阿里云自主研发的超大规模语言模型——通义千问。\n",
      "\u001b[95mUser\u001b[0m: 不错很好\n",
      "\u001b[96mAssistant\u001b[0m: 谢谢夸奖，有什么我可以帮忙的吗？\n",
      "\u001b[95mUser\u001b[0m: \n",
      "\u001b[96mAssistant\u001b[0m: 是吧\n",
      "\u001b[95mUser\u001b[0m: \n",
      "\u001b[96mAssistant\u001b[0m: 你是通义千问。有什么我能帮你回答的问题吗？\n",
      "\u001b[95mUser\u001b[0m: \n",
      "\u001b[96mAssistant\u001b[0m: 当然可以，你可以问我任何问题，我会尽力为你解答。\n",
      "\u001b[95mUser\u001b[0m: exit\n"
     ]
    }
   ],
   "source": [
    "# A Sample Demo\n",
    "# -*- coding: utf-8 -*-\n",
    "\"\"\"A simple example for conversation between user and assistant agent.\"\"\"\n",
    "\n",
    "import agentscope\n",
    "from agentscope.agents import DialogAgent\n",
    "from agentscope.agents.user_agent import UserAgent\n",
    "from agentscope.pipelines.functional import sequentialpipeline\n",
    "\n",
    "def main() -> None:\n",
    "    \"\"\"A basic conversation demo\"\"\"\n",
    "    # step 1: \n",
    "    agentscope.init(\n",
    "        model_configs=\"../config/qwen_model_config.json\",\n",
    "        project=\"A basic conversation demo\",\n",
    "        save_api_invoke=True,\n",
    "    )\n",
    "\n",
    "    # step 2:\n",
    "    dialog_agent = DialogAgent(\n",
    "        name=\"Assistant\",\n",
    "        sys_prompt=\"你是一位 AI Agent!!!\",\n",
    "        model_config_name=\"my_qwen_chat\", \n",
    "    )\n",
    "    user_agent = UserAgent()\n",
    "\n",
    "    # step 3:\n",
    "    x = None\n",
    "    while x is None or x.content != \"exit\":\n",
    "        x = sequentialpipeline([dialog_agent, user_agent], x)\n",
    "\n",
    "if __name__ == \"__main__\":\n",
    "    main()"
   ]
  }
 ],
 "metadata": {
  "kernelspec": {
   "display_name": "agent",
   "language": "python",
   "name": "python3"
  },
  "language_info": {
   "codemirror_mode": {
    "name": "ipython",
    "version": 3
   },
   "file_extension": ".py",
   "mimetype": "text/x-python",
   "name": "python",
   "nbconvert_exporter": "python",
   "pygments_lexer": "ipython3",
   "version": "3.9.19"
  }
 },
 "nbformat": 4,
 "nbformat_minor": 2
}
